{
 "cells": [
  {
   "cell_type": "code",
   "execution_count": 1,
   "metadata": {},
   "outputs": [],
   "source": [
    "import pandas as pd\n",
    "import numpy as np\n",
    "import requests\n",
    "from bs4 import BeautifulSoup"
   ]
  },
  {
   "cell_type": "code",
   "execution_count": 83,
   "metadata": {},
   "outputs": [
    {
     "name": "stdout",
     "output_type": "stream",
     "text": [
      "200\n"
     ]
    }
   ],
   "source": [
    "#url = 'https://stackoverflow.com/questions/58036793/how-to-identify-pixels-corresponding-to-a-particular-gps-coordinates-on-an-image'\n",
    "url = 'https://stackoverflow.com/questions/55210213/jupyter-notebook-importerror-cannot-import-name-type'\n",
    "page = requests.get(url)\n",
    "print(page.status_code)"
   ]
  },
  {
   "cell_type": "code",
   "execution_count": 84,
   "metadata": {},
   "outputs": [],
   "source": [
    "soup = BeautifulSoup(page.content, 'html.parser')\n",
    "#print(soup.prettify())"
   ]
  },
  {
   "cell_type": "code",
   "execution_count": 85,
   "metadata": {},
   "outputs": [
    {
     "name": "stdout",
     "output_type": "stream",
     "text": [
      "\n",
      "I am a Windows user, and I have installed Python 3.6 on my computer. In order to use Jupyter notebooks, I downloaded atom. I already installed ipython and pandas. After entering the command jupyter notebook on the command-line, my browser doesn't open jupyter notebook, instead I get the follow error message:\n",
      "[C:\\Users\\ELIDAD>jupyter notebook\n",
      "Traceback (most recent call last):\n",
      "  File \"c:\\users\\elidad\\appdata\\local\\programs\\python\\python35\\lib\\runpy.py\", line 170, in _run_module_as_main\n",
      "    \"__main__\", mod_spec)\n",
      "  File \"c:\\users\\elidad\\appdata\\local\\programs\\python\\python35\\lib\\runpy.py\", line 85, in _run_code\n",
      "    exec(code, run_globals)\n",
      "  File \"C:\\Users\\ELIDAD\\AppData\\Local\\Programs\\Python\\Python35\\Scripts\\jupyter-notebook.EXE\\__main__.py\", line 5, in <module>\n",
      "  File \"c:\\users\\elidad\\appdata\\local\\programs\\python\\python35\\lib\\site-packages\\notebook\\__init__.py\", line 25, in <module>\n",
      "    from .nbextensions import install_nbextension\n",
      "  File \"c:\\users\\elidad\\appdata\\local\\programs\\python\\python35\\lib\\site-packages\\notebook\\nbextensions.py\", line 610, in <module>\n",
      "    from .extensions import (\n",
      "  File \"c:\\users\\elidad\\appdata\\local\\programs\\python\\python35\\lib\\site-packages\\notebook\\extensions.py\", line 8, in <module>\n",
      "    from tornado.log import LogFormatter\n",
      "  File \"c:\\users\\elidad\\appdata\\local\\programs\\python\\python35\\lib\\site-packages\\tornado\\log.py\", line 34, in <module>\n",
      "    from tornado.escape import _unicode\n",
      "  File \"c:\\users\\elidad\\appdata\\local\\programs\\python\\python35\\lib\\site-packages\\tornado\\escape.py\", line 27, in <module>\n",
      "    from tornado.util import unicode_type\n",
      "  File \"c:\\users\\elidad\\appdata\\local\\programs\\python\\python35\\lib\\site-packages\\tornado\\util.py\", line 21, in <module>\n",
      "    from typing import (\n",
      "ImportError: cannot import name 'Type']\n",
      "\n",
      "So, what is the problem? I am new to python and jupyter notebook. Thank you very much.\n",
      "\n"
     ]
    }
   ],
   "source": [
    "#get question data\n",
    "#get tags - get from api, other metrics.\n",
    "question = soup.find('div', class_='post-text')\n",
    "q_data = question.get_text()\n",
    "q_data_fin = ''\n",
    "data_points = q_data.split('\\n')\n",
    "for p in data_points:\n",
    "    q_data_fin+=p\n",
    "print(q_data)"
   ]
  },
  {
   "cell_type": "code",
   "execution_count": 72,
   "metadata": {},
   "outputs": [
    {
     "name": "stdout",
     "output_type": "stream",
     "text": [
      "thank you for the basic math. It worked out for me with little bit of tweaking.\n"
     ]
    }
   ],
   "source": [
    "### get the comments from questions/answers search by id\n",
    "comment_xml = soup.find('li',id='comment-102480991')\n",
    "a = comment_xml.find_all('span',class_='comment-copy')\n",
    "print(a[0].get_text())"
   ]
  },
  {
   "cell_type": "code",
   "execution_count": 82,
   "metadata": {},
   "outputs": [
    {
     "name": "stdout",
     "output_type": "stream",
     "text": [
      "\n",
      "Here's a repository that streamlines mass plotting a map image. Hope this helps.\n",
      "\n"
     ]
    }
   ],
   "source": [
    "### fetch answers by id\n",
    "aid = 'answer-'+str(58276417)\n",
    "answer_xml = soup.find('div',id=aid).find(\"div\",class_='answercell post-layout--right').find('div',class_='post-text')\n",
    "print(answer_xml.get_text())"
   ]
  }
 ],
 "metadata": {
  "kernelspec": {
   "display_name": "Python 3",
   "language": "python",
   "name": "python3"
  },
  "language_info": {
   "codemirror_mode": {
    "name": "ipython",
    "version": 3
   },
   "file_extension": ".py",
   "mimetype": "text/x-python",
   "name": "python",
   "nbconvert_exporter": "python",
   "pygments_lexer": "ipython3",
   "version": "3.7.3"
  }
 },
 "nbformat": 4,
 "nbformat_minor": 2
}
