{
 "cells": [
  {
   "cell_type": "code",
   "execution_count": 4,
   "metadata": {},
   "outputs": [],
   "source": [
    "# A bunch of imports\n",
    "from stackapi import StackAPI\n",
    "from datetime import datetime\n",
    "import pandas as pd\n",
    "from bs4 import BeautifulSoup\n",
    "import requests\n",
    "import time"
   ]
  },
  {
   "cell_type": "code",
   "execution_count": 8,
   "metadata": {},
   "outputs": [],
   "source": [
    "SITE = StackAPI('stackoverflow')"
   ]
  },
  {
   "cell_type": "code",
   "execution_count": 3,
   "metadata": {},
   "outputs": [],
   "source": [
    "# set SO parameters\n",
    "SITE.page_size= 100\n",
    "SITE.max_pages = 2\n",
    "post = SITE.fetch('questions',fromdate=datetime(2019,1,1), todate=datetime(2019,12,31))"
   ]
  },
  {
   "cell_type": "code",
   "execution_count": 4,
   "metadata": {},
   "outputs": [],
   "source": [
    "data = post['items'] # extract only the meaningful info"
   ]
  },
  {
   "cell_type": "code",
   "execution_count": 6,
   "metadata": {},
   "outputs": [
    {
     "name": "stdout",
     "output_type": "stream",
     "text": [
      "{'tags': ['python', 'python-3.x', 'pyhook'], 'owner': {'reputation': 25, 'user_id': 10517777, 'user_type': 'registered', 'profile_image': 'https://www.gravatar.com/avatar/f3c8209b246c8fd97fa5e2263e4c48e2?s=128&d=identicon&r=PG&f=1', 'display_name': 'sergioMoreno', 'link': 'https://stackoverflow.com/users/10517777/sergiomoreno'}, 'is_answered': False, 'view_count': 75, 'answer_count': 0, 'score': 2, 'last_activity_date': 1582123125, 'creation_date': 1576504384, 'last_edit_date': 1582123125, 'question_id': 59358048, 'link': 'https://stackoverflow.com/questions/59358048/pyhook-crashes-when-it-tries-to-interpret-the-window-name-as-ascii', 'title': 'Pyhook crashes when it tries to interpret the window name as ASCII'}\n"
     ]
    }
   ],
   "source": [
    "print(data[0])"
   ]
  },
  {
   "cell_type": "code",
   "execution_count": 12,
   "metadata": {},
   "outputs": [],
   "source": [
    "# write all useful info to a csv file\n",
    "post_dict = { 'owner_id': [],'owner_url':[],'owner_type':[],'owner_repute':[],\n",
    "             'tags':[], 'score':[],'view_count':[],'answer_count':[], \n",
    "             'last_edit_date':[],'last_activity_date':[],'creation_date':[],\n",
    "             'q_id':[],'q_link':[],'q_title':[]}\n",
    "\n",
    "for e in data:\n",
    "    \n",
    "    # adding the tag data\n",
    "    cur_tag = ''\n",
    "    for t in range(0,len(e['tags'])):\n",
    "        cur_tag+=e['tags'][t]\n",
    "        if t < len(e['tags'])-1:\n",
    "            cur_tag+=\"&\"\n",
    "    post_dict['tags'].append(cur_tag)\n",
    "    \n",
    "    # add owner details\n",
    "    if 'user_id' in e['owner']:\n",
    "        post_dict['owner_id'].append(e['owner']['user_id'])\n",
    "    else:\n",
    "        post_dict['owner_id'].append('NO-DATA')\n",
    "    \n",
    "    if 'link' in e['owner']:\n",
    "        post_dict['owner_url'].append(e['owner']['link'])\n",
    "    else:\n",
    "        post_dict['owner_url'].append('NO-DATA')\n",
    "    \n",
    "    if 'user_type' in e['owner']:\n",
    "        post_dict['owner_type'].append(e['owner']['user_type'])\n",
    "    else:\n",
    "        post_dict['owner_type'].append('NO-DATA')\n",
    "    \n",
    "    if 'reputation' in e['owner']:\n",
    "        post_dict['owner_repute'].append(e['owner']['reputation'])\n",
    "    else:\n",
    "        post_dict['owner_repute'].append('NO-DATA')\n",
    "    \n",
    "    #post level stats\n",
    "    post_dict['score'].append(e['score'])\n",
    "    post_dict['view_count'].append(e['view_count'])\n",
    "    post_dict['answer_count'].append(e['answer_count'])\n",
    "    \n",
    "    # dates associated with the posts\n",
    "    post_dict['creation_date'].append(e['creation_date'])\n",
    "    if 'last_edit_date' in e.keys():\n",
    "        post_dict['last_edit_date'].append(e['last_edit_date'])\n",
    "    else:\n",
    "        post_dict['last_edit_date'].append('NO-DATA')\n",
    "    \n",
    "    if 'last_activity_date' in e.keys():\n",
    "        post_dict['last_activity_date'].append(e['last_activity_date'])\n",
    "    else:\n",
    "        post_dict['last_activity_date'].append('NO-DATA')\n",
    "                       \n",
    "    #post identifiers\n",
    "    post_dict['q_id'].append(e['question_id'])\n",
    "    post_dict['q_link'].append(e['link'])\n",
    "    post_dict['q_title'].append(e['title'])\n",
    "                                     "
   ]
  },
  {
   "cell_type": "code",
   "execution_count": 14,
   "metadata": {},
   "outputs": [],
   "source": [
    "post_frame = pd.DataFrame(post_dict)"
   ]
  },
  {
   "cell_type": "code",
   "execution_count": 51,
   "metadata": {},
   "outputs": [
    {
     "ename": "NameError",
     "evalue": "name 'post_frame' is not defined",
     "output_type": "error",
     "traceback": [
      "\u001b[1;31m---------------------------------------------------------------------------\u001b[0m",
      "\u001b[1;31mNameError\u001b[0m                                 Traceback (most recent call last)",
      "\u001b[1;32m<ipython-input-51-4563c6f258d7>\u001b[0m in \u001b[0;36m<module>\u001b[1;34m\u001b[0m\n\u001b[1;32m----> 1\u001b[1;33m \u001b[0mpost_frame\u001b[0m\u001b[1;33m.\u001b[0m\u001b[0mto_csv\u001b[0m\u001b[1;33m(\u001b[0m\u001b[1;34m\"SO_SMSposter_data.csv\"\u001b[0m\u001b[1;33m)\u001b[0m\u001b[1;33m\u001b[0m\u001b[1;33m\u001b[0m\u001b[0m\n\u001b[0m",
      "\u001b[1;31mNameError\u001b[0m: name 'post_frame' is not defined"
     ]
    }
   ],
   "source": [
    "post_frame.to_csv(\"Post_stats_2.19.2020.csv\")"
   ]
  },
  {
   "cell_type": "code",
   "execution_count": 1,
   "metadata": {},
   "outputs": [],
   "source": [
    "## create a list of comments, answers from the questions"
   ]
  },
  {
   "cell_type": "code",
   "execution_count": 52,
   "metadata": {},
   "outputs": [],
   "source": [
    "data = pd.read_csv(\"SO_SMSposter_data.csv\")"
   ]
  },
  {
   "cell_type": "code",
   "execution_count": 53,
   "metadata": {},
   "outputs": [],
   "source": [
    "cur_ids = data['q_id'].to_list() # get all the question ids"
   ]
  },
  {
   "cell_type": "code",
   "execution_count": 54,
   "metadata": {},
   "outputs": [
    {
     "name": "stdout",
     "output_type": "stream",
     "text": [
      "[58747823, 57277759, 54365906, 58386069, 56920061, 58811819, 58387606, 54757386, 55843097, 56578783, 54409874, 58127896, 56166319, 55496289, 58321114]\n"
     ]
    }
   ],
   "source": [
    "print(cur_ids)"
   ]
  },
  {
   "cell_type": "code",
   "execution_count": 55,
   "metadata": {},
   "outputs": [],
   "source": [
    "# get all answers from these questions - This method has a limit of 100 calls\n",
    "answers = SITE.fetch('questions/{ids}/answers', ids = cur_ids)\n",
    "#get all the comments associated with the questions\n",
    "comm_ques = SITE.fetch('questions/{ids}/comments', ids = cur_ids)"
   ]
  },
  {
   "cell_type": "code",
   "execution_count": 57,
   "metadata": {},
   "outputs": [],
   "source": [
    "ans_data = answers['items']"
   ]
  },
  {
   "cell_type": "code",
   "execution_count": 59,
   "metadata": {},
   "outputs": [],
   "source": [
    "ans_ids = [ans_data[k]['answer_id'] for k in range(0,len(ans_data))] "
   ]
  },
  {
   "cell_type": "code",
   "execution_count": 92,
   "metadata": {},
   "outputs": [],
   "source": [
    "ans_ques = {}\n",
    "for e in ans_data:\n",
    "    cur_aid = e['answer_id']\n",
    "    cur_qid = e['question_id']\n",
    "    ans_ques[cur_aid] = cur_qid"
   ]
  },
  {
   "cell_type": "code",
   "execution_count": 93,
   "metadata": {},
   "outputs": [
    {
     "data": {
      "text/plain": [
       "{60322295: 58747823,\n",
       " 60318566: 55496289,\n",
       " 60295738: 58747823,\n",
       " 60302130: 58811819,\n",
       " 60300583: 58127896,\n",
       " 60300824: 55496289,\n",
       " 60300784: 54757386,\n",
       " 60300617: 55843097,\n",
       " 60273577: 58387606,\n",
       " 60169430: 58321114,\n",
       " 57285217: 57277759,\n",
       " 56579842: 56578783,\n",
       " 60299160: 54409874,\n",
       " 60299012: 54365906,\n",
       " 59176682: 56920061,\n",
       " 60275193: 58387606,\n",
       " 60274869: 58747823,\n",
       " 60263244: 58321114,\n",
       " 60222968: 58321114,\n",
       " 60182305: 56166319,\n",
       " 60162845: 58321114,\n",
       " 60141698: 56166319,\n",
       " 59345120: 58321114,\n",
       " 59964209: 55496289,\n",
       " 59959115: 55496289,\n",
       " 59916899: 55496289,\n",
       " 59913261: 58321114,\n",
       " 59890057: 58127896,\n",
       " 59814352: 58321114,\n",
       " 59617351: 58321114,\n",
       " 59506642: 54409874,\n",
       " 58539626: 58321114,\n",
       " 59303185: 58387606,\n",
       " 59299937: 56166319,\n",
       " 59278113: 58321114,\n",
       " 59261764: 56166319,\n",
       " 55496390: 55496289,\n",
       " 58409339: 58127896,\n",
       " 59023973: 58127896,\n",
       " 58986880: 55496289,\n",
       " 58948540: 55496289,\n",
       " 58569057: 55843097,\n",
       " 58888227: 55496289,\n",
       " 58774271: 58321114,\n",
       " 58812069: 58811819,\n",
       " 58828202: 58127896,\n",
       " 58814466: 58811819,\n",
       " 58811894: 58811819,\n",
       " 58779000: 58127896,\n",
       " 58723552: 58386069,\n",
       " 58432567: 56920061,\n",
       " 58496034: 58127896,\n",
       " 58487733: 58386069,\n",
       " 58455252: 58387606,\n",
       " 58394797: 58386069,\n",
       " 57179135: 56166319,\n",
       " 58172248: 56166319,\n",
       " 58140389: 58127896,\n",
       " 57674968: 56166319,\n",
       " 57364360: 54757386,\n",
       " 57278620: 57277759,\n",
       " 57277882: 57277759,\n",
       " 57049379: 54757386,\n",
       " 56920606: 56920061,\n",
       " 56628787: 56578783,\n",
       " 56618606: 56166319,\n",
       " 56580023: 56578783,\n",
       " 56579288: 56578783,\n",
       " 56427511: 55496289,\n",
       " 55843348: 55843097,\n",
       " 55843172: 55843097,\n",
       " 55497342: 55496289,\n",
       " 54757407: 54757386,\n",
       " 54410060: 54409874,\n",
       " 54409993: 54409874,\n",
       " 54366354: 54365906,\n",
       " 54366375: 54365906}"
      ]
     },
     "execution_count": 93,
     "metadata": {},
     "output_type": "execute_result"
    }
   ],
   "source": [
    "ans_ques"
   ]
  },
  {
   "cell_type": "code",
   "execution_count": 77,
   "metadata": {},
   "outputs": [],
   "source": [
    "# get all the ids of the comments associated with the answers\n",
    "comm_ans = SITE.fetch('answers/{ids}/comments', ids = ans_ids)\n",
    "                                     "
   ]
  },
  {
   "cell_type": "code",
   "execution_count": 81,
   "metadata": {},
   "outputs": [],
   "source": [
    "commans_data = comm_ans['items']\n",
    "commques_data = comm_ques['items']"
   ]
  },
  {
   "cell_type": "code",
   "execution_count": 82,
   "metadata": {
    "scrolled": true
   },
   "outputs": [
    {
     "data": {
      "text/plain": [
       "{'owner': {'reputation': 503,\n",
       "  'user_id': 3350692,\n",
       "  'user_type': 'registered',\n",
       "  'profile_image': 'https://www.gravatar.com/avatar/f4a9c5ca20b7d856efc38bafb3c78626?s=128&d=identicon&r=PG',\n",
       "  'display_name': 'tudor.gergely',\n",
       "  'link': 'https://stackoverflow.com/users/3350692/tudor-gergely'},\n",
       " 'edited': False,\n",
       " 'score': 0,\n",
       " 'creation_date': 1582182716,\n",
       " 'post_id': 58747823,\n",
       " 'comment_id': 106690990}"
      ]
     },
     "execution_count": 82,
     "metadata": {},
     "output_type": "execute_result"
    }
   ],
   "source": [
    "commques_data[0]"
   ]
  },
  {
   "cell_type": "code",
   "execution_count": 96,
   "metadata": {},
   "outputs": [],
   "source": [
    "# aggregate all the answers at the question level\n",
    "ques_ans = {}\n",
    "for e in ans_ques:\n",
    "    qid = ans_ques[e]\n",
    "    if qid not in ques_ans:\n",
    "        ques_ans[qid] = []\n",
    "        ques_ans[qid].append(e)\n",
    "    else:\n",
    "        ques_ans[qid].append(e)\n",
    "#ques_ans"
   ]
  },
  {
   "cell_type": "code",
   "execution_count": 98,
   "metadata": {},
   "outputs": [],
   "source": [
    "# combine all comments under question, answers\n",
    "ques_comm = {}\n",
    "comm_ans = {} # only for those that given to answers\n",
    "\n",
    "for e in commques_data:\n",
    "    cid = e['comment_id']\n",
    "    qid = e['post_id']\n",
    "    if qid not in ques_comm:\n",
    "        ques_comm[qid] = []\n",
    "        ques_comm[qid].append(cid)\n",
    "    else:\n",
    "        ques_comm[qid].append(cid)\n",
    "    \n",
    "for e in commans_data:\n",
    "    cid = e['comment_id']\n",
    "    aid = e['post_id']\n",
    "    qid = ans_ques[aid]\n",
    "    if qid not in ques_comm:\n",
    "        ques_comm[qid] = []\n",
    "        ques_comm[qid].append(cid)\n",
    "    else:\n",
    "        ques_comm[qid].append(cid)\n",
    "    if cid not in comm_ans:\n",
    "        comm_ans[qid] = []\n",
    "        comm_ans[qid].append(aid)\n",
    "    else:\n",
    "        comm_ans[qid].append(aid)"
   ]
  },
  {
   "cell_type": "code",
   "execution_count": 109,
   "metadata": {},
   "outputs": [
    {
     "data": {
      "text/plain": [
       "14"
      ]
     },
     "execution_count": 109,
     "metadata": {},
     "output_type": "execute_result"
    }
   ],
   "source": [
    "len(ques_comm)"
   ]
  },
  {
   "cell_type": "code",
   "execution_count": 104,
   "metadata": {},
   "outputs": [
    {
     "ename": "KeyError",
     "evalue": "'q_links'",
     "output_type": "error",
     "traceback": [
      "\u001b[1;31m---------------------------------------------------------------------------\u001b[0m",
      "\u001b[1;31mKeyError\u001b[0m                                  Traceback (most recent call last)",
      "\u001b[1;32m~\\Anaconda3\\lib\\site-packages\\pandas\\core\\indexes\\base.py\u001b[0m in \u001b[0;36mget_loc\u001b[1;34m(self, key, method, tolerance)\u001b[0m\n\u001b[0;32m   2656\u001b[0m             \u001b[1;32mtry\u001b[0m\u001b[1;33m:\u001b[0m\u001b[1;33m\u001b[0m\u001b[1;33m\u001b[0m\u001b[0m\n\u001b[1;32m-> 2657\u001b[1;33m                 \u001b[1;32mreturn\u001b[0m \u001b[0mself\u001b[0m\u001b[1;33m.\u001b[0m\u001b[0m_engine\u001b[0m\u001b[1;33m.\u001b[0m\u001b[0mget_loc\u001b[0m\u001b[1;33m(\u001b[0m\u001b[0mkey\u001b[0m\u001b[1;33m)\u001b[0m\u001b[1;33m\u001b[0m\u001b[1;33m\u001b[0m\u001b[0m\n\u001b[0m\u001b[0;32m   2658\u001b[0m             \u001b[1;32mexcept\u001b[0m \u001b[0mKeyError\u001b[0m\u001b[1;33m:\u001b[0m\u001b[1;33m\u001b[0m\u001b[1;33m\u001b[0m\u001b[0m\n",
      "\u001b[1;32mpandas/_libs/index.pyx\u001b[0m in \u001b[0;36mpandas._libs.index.IndexEngine.get_loc\u001b[1;34m()\u001b[0m\n",
      "\u001b[1;32mpandas/_libs/index.pyx\u001b[0m in \u001b[0;36mpandas._libs.index.IndexEngine.get_loc\u001b[1;34m()\u001b[0m\n",
      "\u001b[1;32mpandas/_libs/hashtable_class_helper.pxi\u001b[0m in \u001b[0;36mpandas._libs.hashtable.PyObjectHashTable.get_item\u001b[1;34m()\u001b[0m\n",
      "\u001b[1;32mpandas/_libs/hashtable_class_helper.pxi\u001b[0m in \u001b[0;36mpandas._libs.hashtable.PyObjectHashTable.get_item\u001b[1;34m()\u001b[0m\n",
      "\u001b[1;31mKeyError\u001b[0m: 'q_links'",
      "\nDuring handling of the above exception, another exception occurred:\n",
      "\u001b[1;31mKeyError\u001b[0m                                  Traceback (most recent call last)",
      "\u001b[1;32m<ipython-input-104-f983ac809e6c>\u001b[0m in \u001b[0;36m<module>\u001b[1;34m\u001b[0m\n\u001b[1;32m----> 1\u001b[1;33m \u001b[0murls\u001b[0m \u001b[1;33m=\u001b[0m \u001b[0mdata\u001b[0m\u001b[1;33m[\u001b[0m\u001b[1;34m'q_links'\u001b[0m\u001b[1;33m]\u001b[0m\u001b[1;33m.\u001b[0m\u001b[0mto_list\u001b[0m\u001b[1;33m(\u001b[0m\u001b[1;33m)\u001b[0m\u001b[1;33m\u001b[0m\u001b[1;33m\u001b[0m\u001b[0m\n\u001b[0m",
      "\u001b[1;32m~\\Anaconda3\\lib\\site-packages\\pandas\\core\\frame.py\u001b[0m in \u001b[0;36m__getitem__\u001b[1;34m(self, key)\u001b[0m\n\u001b[0;32m   2925\u001b[0m             \u001b[1;32mif\u001b[0m \u001b[0mself\u001b[0m\u001b[1;33m.\u001b[0m\u001b[0mcolumns\u001b[0m\u001b[1;33m.\u001b[0m\u001b[0mnlevels\u001b[0m \u001b[1;33m>\u001b[0m \u001b[1;36m1\u001b[0m\u001b[1;33m:\u001b[0m\u001b[1;33m\u001b[0m\u001b[1;33m\u001b[0m\u001b[0m\n\u001b[0;32m   2926\u001b[0m                 \u001b[1;32mreturn\u001b[0m \u001b[0mself\u001b[0m\u001b[1;33m.\u001b[0m\u001b[0m_getitem_multilevel\u001b[0m\u001b[1;33m(\u001b[0m\u001b[0mkey\u001b[0m\u001b[1;33m)\u001b[0m\u001b[1;33m\u001b[0m\u001b[1;33m\u001b[0m\u001b[0m\n\u001b[1;32m-> 2927\u001b[1;33m             \u001b[0mindexer\u001b[0m \u001b[1;33m=\u001b[0m \u001b[0mself\u001b[0m\u001b[1;33m.\u001b[0m\u001b[0mcolumns\u001b[0m\u001b[1;33m.\u001b[0m\u001b[0mget_loc\u001b[0m\u001b[1;33m(\u001b[0m\u001b[0mkey\u001b[0m\u001b[1;33m)\u001b[0m\u001b[1;33m\u001b[0m\u001b[1;33m\u001b[0m\u001b[0m\n\u001b[0m\u001b[0;32m   2928\u001b[0m             \u001b[1;32mif\u001b[0m \u001b[0mis_integer\u001b[0m\u001b[1;33m(\u001b[0m\u001b[0mindexer\u001b[0m\u001b[1;33m)\u001b[0m\u001b[1;33m:\u001b[0m\u001b[1;33m\u001b[0m\u001b[1;33m\u001b[0m\u001b[0m\n\u001b[0;32m   2929\u001b[0m                 \u001b[0mindexer\u001b[0m \u001b[1;33m=\u001b[0m \u001b[1;33m[\u001b[0m\u001b[0mindexer\u001b[0m\u001b[1;33m]\u001b[0m\u001b[1;33m\u001b[0m\u001b[1;33m\u001b[0m\u001b[0m\n",
      "\u001b[1;32m~\\Anaconda3\\lib\\site-packages\\pandas\\core\\indexes\\base.py\u001b[0m in \u001b[0;36mget_loc\u001b[1;34m(self, key, method, tolerance)\u001b[0m\n\u001b[0;32m   2657\u001b[0m                 \u001b[1;32mreturn\u001b[0m \u001b[0mself\u001b[0m\u001b[1;33m.\u001b[0m\u001b[0m_engine\u001b[0m\u001b[1;33m.\u001b[0m\u001b[0mget_loc\u001b[0m\u001b[1;33m(\u001b[0m\u001b[0mkey\u001b[0m\u001b[1;33m)\u001b[0m\u001b[1;33m\u001b[0m\u001b[1;33m\u001b[0m\u001b[0m\n\u001b[0;32m   2658\u001b[0m             \u001b[1;32mexcept\u001b[0m \u001b[0mKeyError\u001b[0m\u001b[1;33m:\u001b[0m\u001b[1;33m\u001b[0m\u001b[1;33m\u001b[0m\u001b[0m\n\u001b[1;32m-> 2659\u001b[1;33m                 \u001b[1;32mreturn\u001b[0m \u001b[0mself\u001b[0m\u001b[1;33m.\u001b[0m\u001b[0m_engine\u001b[0m\u001b[1;33m.\u001b[0m\u001b[0mget_loc\u001b[0m\u001b[1;33m(\u001b[0m\u001b[0mself\u001b[0m\u001b[1;33m.\u001b[0m\u001b[0m_maybe_cast_indexer\u001b[0m\u001b[1;33m(\u001b[0m\u001b[0mkey\u001b[0m\u001b[1;33m)\u001b[0m\u001b[1;33m)\u001b[0m\u001b[1;33m\u001b[0m\u001b[1;33m\u001b[0m\u001b[0m\n\u001b[0m\u001b[0;32m   2660\u001b[0m         \u001b[0mindexer\u001b[0m \u001b[1;33m=\u001b[0m \u001b[0mself\u001b[0m\u001b[1;33m.\u001b[0m\u001b[0mget_indexer\u001b[0m\u001b[1;33m(\u001b[0m\u001b[1;33m[\u001b[0m\u001b[0mkey\u001b[0m\u001b[1;33m]\u001b[0m\u001b[1;33m,\u001b[0m \u001b[0mmethod\u001b[0m\u001b[1;33m=\u001b[0m\u001b[0mmethod\u001b[0m\u001b[1;33m,\u001b[0m \u001b[0mtolerance\u001b[0m\u001b[1;33m=\u001b[0m\u001b[0mtolerance\u001b[0m\u001b[1;33m)\u001b[0m\u001b[1;33m\u001b[0m\u001b[1;33m\u001b[0m\u001b[0m\n\u001b[0;32m   2661\u001b[0m         \u001b[1;32mif\u001b[0m \u001b[0mindexer\u001b[0m\u001b[1;33m.\u001b[0m\u001b[0mndim\u001b[0m \u001b[1;33m>\u001b[0m \u001b[1;36m1\u001b[0m \u001b[1;32mor\u001b[0m \u001b[0mindexer\u001b[0m\u001b[1;33m.\u001b[0m\u001b[0msize\u001b[0m \u001b[1;33m>\u001b[0m \u001b[1;36m1\u001b[0m\u001b[1;33m:\u001b[0m\u001b[1;33m\u001b[0m\u001b[1;33m\u001b[0m\u001b[0m\n",
      "\u001b[1;32mpandas/_libs/index.pyx\u001b[0m in \u001b[0;36mpandas._libs.index.IndexEngine.get_loc\u001b[1;34m()\u001b[0m\n",
      "\u001b[1;32mpandas/_libs/index.pyx\u001b[0m in \u001b[0;36mpandas._libs.index.IndexEngine.get_loc\u001b[1;34m()\u001b[0m\n",
      "\u001b[1;32mpandas/_libs/hashtable_class_helper.pxi\u001b[0m in \u001b[0;36mpandas._libs.hashtable.PyObjectHashTable.get_item\u001b[1;34m()\u001b[0m\n",
      "\u001b[1;32mpandas/_libs/hashtable_class_helper.pxi\u001b[0m in \u001b[0;36mpandas._libs.hashtable.PyObjectHashTable.get_item\u001b[1;34m()\u001b[0m\n",
      "\u001b[1;31mKeyError\u001b[0m: 'q_links'"
     ]
    }
   ],
   "source": [
    "urls = data['q_links'].to_list()"
   ]
  },
  {
   "cell_type": "code",
   "execution_count": 112,
   "metadata": {},
   "outputs": [],
   "source": [
    "data_dict = {'ques_id':[],'url':[],'answers':[],'comments':[]}\n",
    "urls = data['q_link']\n",
    "for e in range(0,len(cur_ids)):\n",
    "    ques_id = cur_ids[e]\n",
    "    data_dict['ques_id'].append(ques_id)\n",
    "    data_dict['url'].append(urls[e])\n",
    "    \n",
    "    ans = ''\n",
    "    for a in range(0,len(ques_ans[ques_id])):\n",
    "        ans+=str(ques_ans[ques_id][a])\n",
    "        if a<len(ques_ans[ques_id])-1:\n",
    "            ans+=\"&\"\n",
    "    #print(ans)\n",
    "    data_dict['answers'].append(ans)\n",
    "    \n",
    "    comms = ''\n",
    "    if ques_id in ques_comm:\n",
    "        comments = ques_comm[ques_id]\n",
    "        #print(comments)\n",
    "        for a in range(0,len(ques_comm[ques_id])):\n",
    "            comms+=str(ques_comm[ques_id][a])\n",
    "            if a<len(ques_comm[ques_id])-1:\n",
    "                comms+=\"&\"\n",
    "        data_dict['comments'].append(comms)\n",
    "    else:\n",
    "        data_dict['comments'].append('NO_DATA')\n",
    "\n",
    "post_data = pd.DataFrame(data_dict)"
   ]
  },
  {
   "cell_type": "code",
   "execution_count": 113,
   "metadata": {},
   "outputs": [],
   "source": [
    "post_data.to_csv(\"SO_smsposter_postaggdata.csv\")"
   ]
  }
 ],
 "metadata": {
  "kernelspec": {
   "display_name": "Python 3",
   "language": "python",
   "name": "python3"
  },
  "language_info": {
   "codemirror_mode": {
    "name": "ipython",
    "version": 3
   },
   "file_extension": ".py",
   "mimetype": "text/x-python",
   "name": "python",
   "nbconvert_exporter": "python",
   "pygments_lexer": "ipython3",
   "version": "3.7.3"
  }
 },
 "nbformat": 4,
 "nbformat_minor": 2
}
